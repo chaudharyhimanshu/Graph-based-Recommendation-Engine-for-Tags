{
 "cells": [
  {
   "cell_type": "code",
   "execution_count": 61,
   "metadata": {},
   "outputs": [],
   "source": [
    "import requests\n",
    "import numpy as np\n",
    "import networkx as nx\n",
    "import pickle\n",
    "from itertools import permutations "
   ]
  },
  {
   "cell_type": "code",
   "execution_count": 2,
   "metadata": {},
   "outputs": [],
   "source": [
    "class extract_tags:\n",
    "    def __init__(self, amt):\n",
    "        self._amt = amt\n",
    "        self.__url = None\n",
    "        self.__json = None\n",
    "        self.unique_tags = set()\n",
    "        self.tags = []\n",
    "    def read_json(self):\n",
    "        for i in range(1, self._amt + 1):\n",
    "            self.__url = 'https://api.stackexchange.com/2.2/questions?page=' + str(i) + '&pagesize=100&order=desc&sort=activity&site=stackoverflow' \n",
    "            self.__json = requests.get(self.__url).json()['items']\n",
    "            for it in range(len(self.__json)):\n",
    "                self.tags.append(self.__json[it]['tags'])\n",
    "                for x in self.__json[it]['tags']:\n",
    "                    self.unique_tags.add(x) "
   ]
  },
  {
   "cell_type": "code",
   "execution_count": 3,
   "metadata": {},
   "outputs": [],
   "source": [
    "class create_graph(extract_tags):\n",
    "    def __init__(self, amt):\n",
    "        self.graph = nx.Graph()\n",
    "        self.__amt = amt\n",
    "        super().__init__(self.amt)\n",
    "        self.__read_json()\n",
    "        self.graph.add_nodes_from(self.unique_tags)\n",
    "    def add_weight(self):\n",
    "        for tag in __self.tags:\n",
    "            self.__perm = list(permutations(tag, 2))\n",
    "            for all_perm in self.__perm:\n",
    "                if all_perm in self.graph.edges:\n",
    "                    self.graph.edges[all_perm]['weight'] += 1\n",
    "                else:\n",
    "                    self.graph.add_weighted_edges_from([(all_perm[0], all_perm[1], 1)])"
   ]
  },
  {
   "cell_type": "code",
   "execution_count": 5,
   "metadata": {},
   "outputs": [],
   "source": [
    "cls = create_graph(100)"
   ]
  },
  {
   "cell_type": "code",
   "execution_count": 6,
   "metadata": {},
   "outputs": [],
   "source": [
    "cls.add_weight()"
   ]
  },
  {
   "cell_type": "code",
   "execution_count": 59,
   "metadata": {},
   "outputs": [
    {
     "data": {
      "text/plain": [
       "['css',\n",
       " 'javascript',\n",
       " 'function',\n",
       " 'loops',\n",
       " 'web-component',\n",
       " 'ace-editor',\n",
       " 'custom-element',\n",
       " 'jquery',\n",
       " 'html-table',\n",
       " 'angular',\n",
       " 'twitter-bootstrap',\n",
       " 'bootstrap-4',\n",
       " 'svg',\n",
       " 'dom']"
      ]
     },
     "execution_count": 59,
     "metadata": {},
     "output_type": "execute_result"
    }
   ],
   "source": [
    "list(dict(sorted(dict(cls.graph['html']).items(), key = lambda x: x[1]['weight'], reverse = True)).keys())"
   ]
  },
  {
   "cell_type": "code",
   "execution_count": 62,
   "metadata": {},
   "outputs": [],
   "source": [
    "pickle.dump(cls.graph, open('graph.pkl', 'wb'))"
   ]
  },
  {
   "cell_type": "code",
   "execution_count": 63,
   "metadata": {},
   "outputs": [],
   "source": [
    "g = pickle.load(open('graph.pkl', 'rb'))"
   ]
  },
  {
   "cell_type": "code",
   "execution_count": 65,
   "metadata": {},
   "outputs": [
    {
     "data": {
      "text/plain": [
       "<networkx.classes.graph.Graph at 0x1a0a8707188>"
      ]
     },
     "execution_count": 65,
     "metadata": {},
     "output_type": "execute_result"
    }
   ],
   "source": [
    "g['']"
   ]
  },
  {
   "cell_type": "code",
   "execution_count": 67,
   "metadata": {},
   "outputs": [
    {
     "data": {
      "text/plain": [
       "['pandas',\n",
       " 'python-3.x',\n",
       " 'django',\n",
       " 'flask',\n",
       " 'tkinter',\n",
       " 'listbox',\n",
       " 'alignment',\n",
       " 'counting',\n",
       " 'word',\n",
       " 'identify',\n",
       " 'ffmpeg',\n",
       " 'speech-recognition',\n",
       " 'pydub',\n",
       " 'hyperlink',\n",
       " 'selenium',\n",
       " 'instagram',\n",
       " 'python-2.7',\n",
       " 'google-search',\n",
       " 'google-search-api',\n",
       " 'datetime',\n",
       " 'parsing',\n",
       " 'c++',\n",
       " 'swig',\n",
       " 'django-admin',\n",
       " 'django-3.1']"
      ]
     },
     "execution_count": 67,
     "metadata": {},
     "output_type": "execute_result"
    }
   ],
   "source": [
    "list(dict(sorted(dict(g['python']).items(), key = lambda x: x[1]['weight'], reverse = True)).keys())"
   ]
  },
  {
   "cell_type": "code",
   "execution_count": null,
   "metadata": {},
   "outputs": [],
   "source": []
  }
 ],
 "metadata": {
  "kernelspec": {
   "display_name": "Python 3",
   "language": "python",
   "name": "python3"
  },
  "language_info": {
   "codemirror_mode": {
    "name": "ipython",
    "version": 3
   },
   "file_extension": ".py",
   "mimetype": "text/x-python",
   "name": "python",
   "nbconvert_exporter": "python",
   "pygments_lexer": "ipython3",
   "version": "3.7.5"
  }
 },
 "nbformat": 4,
 "nbformat_minor": 2
}
